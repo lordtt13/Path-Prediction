{
  "nbformat": 4,
  "nbformat_minor": 0,
  "metadata": {
    "colab": {
      "name": "upsampling.ipynb",
      "provenance": [],
      "machine_shape": "hm"
    },
    "kernelspec": {
      "name": "python3",
      "display_name": "Python 3"
    }
  },
  "cells": [
    {
      "cell_type": "code",
      "metadata": {
        "id": "GKXXcAqPvsge",
        "colab_type": "code",
        "colab": {
          "base_uri": "https://localhost:8080/",
          "height": 34
        },
        "outputId": "00eb0828-5537-43bb-c193-a69b9b9d6db5"
      },
      "source": [
        "from google.colab import drive\n",
        "drive.mount('/content/drive')"
      ],
      "execution_count": 2,
      "outputs": [
        {
          "output_type": "stream",
          "text": [
            "Mounted at /content/drive\n"
          ],
          "name": "stdout"
        }
      ]
    },
    {
      "cell_type": "code",
      "metadata": {
        "id": "QvzdERZ9vwhu",
        "colab_type": "code",
        "colab": {}
      },
      "source": [
        "import pandas as pd\n",
        "all_truck = pd.read_csv('/content/drive/My Drive/new_dat.csv')\n",
        "all_truck['time_y'] = pd.to_datetime(all_truck['time_y'], format = \"%Y-%m-%d %H:%M:%S.%f\")\n",
        "all_truck = all_truck.set_index('time_y')"
      ],
      "execution_count": 0,
      "outputs": []
    },
    {
      "cell_type": "code",
      "metadata": {
        "id": "qbCInRzzv1M3",
        "colab_type": "code",
        "colab": {}
      },
      "source": [
        "seconds_resampled_data = all_truck.resample('1S').interpolate()"
      ],
      "execution_count": 0,
      "outputs": []
    },
    {
      "cell_type": "code",
      "metadata": {
        "id": "itKB-sNgyH3U",
        "colab_type": "code",
        "colab": {
          "base_uri": "https://localhost:8080/",
          "height": 168
        },
        "outputId": "06409492-b46c-4f3b-b6fb-75a0705c17a7"
      },
      "source": [
        "print(seconds_resampled_data.head())"
      ],
      "execution_count": 10,
      "outputs": [
        {
          "output_type": "stream",
          "text": [
            "                     Unnamed: 0  id_x  ...  longitude  track_id\n",
            "time_y                                 ...                     \n",
            "2014-09-13 07:24:32         0.0   1.0  ... -37.062742       1.0\n",
            "2014-09-13 07:24:33         0.2   1.0  ... -37.062742       1.0\n",
            "2014-09-13 07:24:34         0.4   1.0  ... -37.062742       1.0\n",
            "2014-09-13 07:24:35         0.6   1.0  ... -37.062742       1.0\n",
            "2014-09-13 07:24:36         0.8   1.0  ... -37.062742       1.0\n",
            "\n",
            "[5 rows x 15 columns]\n"
          ],
          "name": "stdout"
        }
      ]
    },
    {
      "cell_type": "code",
      "metadata": {
        "id": "oaUbCclHyrZD",
        "colab_type": "code",
        "colab": {}
      },
      "source": [
        ""
      ],
      "execution_count": 0,
      "outputs": []
    }
  ]
}